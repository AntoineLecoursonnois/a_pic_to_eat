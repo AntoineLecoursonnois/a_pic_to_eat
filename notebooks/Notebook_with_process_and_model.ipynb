{
  "nbformat": 4,
  "nbformat_minor": 0,
  "metadata": {
    "colab": {
      "name": "Home_made_CNN",
      "provenance": [],
      "collapsed_sections": [
        "D3hs4SfArGt0"
      ]
    },
    "kernelspec": {
      "display_name": "Python 3",
      "name": "python3"
    },
    "language_info": {
      "name": "python"
    }
  },
  "cells": [
    {
      "cell_type": "code",
      "metadata": {
        "colab": {
          "base_uri": "https://localhost:8080/"
        },
        "id": "WI_ygP2gKEqL",
        "outputId": "96147f2c-f61f-46d4-b164-9187a6a5f318"
      },
      "source": [
        "from google.colab import drive\n",
        "drive.mount('/content/drive')"
      ],
      "execution_count": null,
      "outputs": [
        {
          "output_type": "stream",
          "text": [
            "Mounted at /content/drive\n"
          ],
          "name": "stdout"
        }
      ]
    },
    {
      "cell_type": "code",
      "metadata": {
        "id": "O3LOjXIWKIgI"
      },
      "source": [
        "import os\n",
        "import pandas as pd\n",
        "import numpy as np\n",
        "import matplotlib.pyplot as plt\n",
        "from PIL import Image, ImageFile\n",
        "from tensorflow import image\n",
        "from tensorflow.keras.applications.vgg16 import VGG16, preprocess_input\n",
        "from tensorflow.keras import optimizers, layers, models\n",
        "from tensorflow.keras.callbacks import EarlyStopping\n",
        "from tensorflow.keras import metrics\n",
        "from tensorflow.keras.utils import to_categorical"
      ],
      "execution_count": null,
      "outputs": []
    },
    {
      "cell_type": "markdown",
      "metadata": {
        "id": "Gn5yCeRejHsA"
      },
      "source": [
        "# Import the clean_datas"
      ]
    },
    {
      "cell_type": "code",
      "metadata": {
        "colab": {
          "base_uri": "https://localhost:8080/"
        },
        "id": "2F2jh0loKL_o",
        "outputId": "73822b49-a779-4ef2-e7e8-5d70a1e5d07b"
      },
      "source": [
        "df = pd.DataFrame()\n",
        "\n",
        "APP_FOLDER = 'drive/MyDrive/images/'\n",
        "\n",
        "file_type = ['jpg', 'peg', 'JPG']\n",
        "product_name = []\n",
        "img_numpy_array = []\n",
        "max_img = 35  #so every img has the same weight (maximizing the number training size)\n",
        "\n",
        "### Clean the inputs ###\n",
        "\n",
        "# First step : create a copy of png images into jpeg (to reduce the size and so the memory size which will be necessary to convert to numpy arrays)\n",
        "for files in os.walk(APP_FOLDER):\n",
        "    for img in files[2]:\n",
        "        if img[-3:] == 'png':\n",
        "            # In case images would be truncated\n",
        "            ImageFile.LOAD_TRUNCATED_IMAGES = True\n",
        "            # importing the image\n",
        "            image = Image.open(f\"{files[0]}/{img}\")\n",
        "            # converting to jpg\n",
        "            rgb_im = image.convert(\"RGB\")\n",
        "            # create a copy in jpeg\n",
        "            rgb_im.save(f\"{files[0]}/{img[:-3]}_jpeg\", \"jpeg\")\n",
        "\n",
        "# Second step : clean the data :\n",
        "for files in os.walk(APP_FOLDER):\n",
        "    counter = 0\n",
        "    for img in files[2]:\n",
        "        if img[-3:] in file_type and counter < max_img:\n",
        "            pdt_name = files[0].replace('drive/MyDrive/images/', '')\n",
        "            product_name.append(pdt_name)\n",
        "\n",
        "            # importing the image\n",
        "            image = Image.open(f\"{files[0]}/{img}\")\n",
        "\n",
        "            # Resize in 1024 x 1024\n",
        "            image = image.resize((1024, 1024))\n",
        "\n",
        "            # Input the image as numpy array into img_numpy_array\n",
        "            img_numpy_array.append(np.asarray(image))\n",
        "            counter += 1\n",
        "        else:\n",
        "            pass\n",
        "\n",
        "#  Set the features\n",
        "df[\"product_name\"] = product_name\n",
        "df[\"img_numpy_array\"] = img_numpy_array\n",
        "\n",
        "# Dropout products without enough images\n",
        "min_img_per_product = 15\n",
        "products_with_enough_img = list(\n",
        "    df.groupby('product_name').count()[df.groupby('product_name').count(\n",
        "    )[\"img_numpy_array\"] > min_img_per_product].index)\n",
        "df = df[df[\"product_name\"].isin(products_with_enough_img) == True]\n",
        "\n",
        "### Preprocess the data ###\n",
        "\n",
        "# Create a dictionary from each product name to encode them\n",
        "products_encoded = {}\n",
        "counter = 0\n",
        "\n",
        "list_of_products_kept = sorted(list(df[\"product_name\"].unique()))\n",
        "\n",
        "for products in list_of_products_kept:\n",
        "    products_encoded[products] = counter\n",
        "    counter += 1\n",
        "\n",
        "# Generate y by matching the product_name serie to the encoded dictionary\n",
        "y = []\n",
        "for product_name in df[\"product_name\"]:\n",
        "    for product, code in products_encoded.items():\n",
        "        if product == product_name:\n",
        "            y.append(code)"
      ],
      "execution_count": null,
      "outputs": [
        {
          "output_type": "stream",
          "text": [
            "/usr/local/lib/python3.7/dist-packages/PIL/Image.py:960: UserWarning: Palette images with Transparency expressed in bytes should be converted to RGBA images\n",
            "  \"Palette images with Transparency expressed in bytes should be \"\n"
          ],
          "name": "stderr"
        }
      ]
    },
    {
      "cell_type": "code",
      "metadata": {
        "colab": {
          "base_uri": "https://localhost:8080/"
        },
        "id": "jz3KOQ7e40yQ",
        "outputId": "f6a2aacb-3db7-426c-c387-9308b765dc61"
      },
      "source": [
        "products_encoded"
      ],
      "execution_count": null,
      "outputs": [
        {
          "output_type": "execute_result",
          "data": {
            "text/plain": [
              "{'ananas': 0,\n",
              " 'aubergine': 1,\n",
              " 'banane': 2,\n",
              " 'brocoli': 3,\n",
              " 'carotte': 4,\n",
              " 'citron': 5,\n",
              " 'concombre': 6,\n",
              " 'gingembre': 7,\n",
              " 'melon': 8,\n",
              " 'pasteque': 9,\n",
              " 'poivron': 10,\n",
              " 'pomme_de_terre': 11,\n",
              " 'raisin': 12,\n",
              " 'salade': 13,\n",
              " 'tomate': 14}"
            ]
          },
          "metadata": {},
          "execution_count": 4
        }
      ]
    },
    {
      "cell_type": "code",
      "metadata": {
        "id": "g8R5I4h_KUQn"
      },
      "source": [
        "shape_dict = {}\n",
        "for arrays in df[\"img_numpy_array\"]:\n",
        "  if arrays.shape in shape_dict:\n",
        "    shape_dict[arrays.shape] += 1\n",
        "  else:\n",
        "    shape_dict[arrays.shape] = 1"
      ],
      "execution_count": null,
      "outputs": []
    },
    {
      "cell_type": "code",
      "metadata": {
        "colab": {
          "base_uri": "https://localhost:8080/"
        },
        "id": "XlujGp6oKUyS",
        "outputId": "2abf6670-a26a-4f90-fd54-1230cb8d33b1"
      },
      "source": [
        "shape_dict"
      ],
      "execution_count": null,
      "outputs": [
        {
          "output_type": "execute_result",
          "data": {
            "text/plain": [
              "{(1024, 1024, 3): 486}"
            ]
          },
          "metadata": {},
          "execution_count": 23
        }
      ]
    },
    {
      "cell_type": "code",
      "metadata": {
        "id": "ZwuuByM8KY9h"
      },
      "source": [
        "df[\"arrays_shape\"] = [arrays.shape for arrays in df[\"img_numpy_array\"]]\n",
        "df = df.drop(df[df[\"arrays_shape\"]!=(1024,1024,3)].index)\n",
        "img_numpy_array_to_list = df[\"img_numpy_array\"].to_list()"
      ],
      "execution_count": null,
      "outputs": []
    },
    {
      "cell_type": "code",
      "metadata": {
        "id": "3nfluk96Kcms"
      },
      "source": [
        "# Create X, a numpy array of images kept\n",
        "X = np.asarray(img_numpy_array_to_list)"
      ],
      "execution_count": null,
      "outputs": []
    },
    {
      "cell_type": "code",
      "metadata": {
        "id": "uYBjGimiKfNX"
      },
      "source": [
        "# Transform y into a numpy array (y_cat)\n",
        "num_classes = len(list_of_products_kept)\n",
        "y_cat = to_categorical(y, num_classes)"
      ],
      "execution_count": null,
      "outputs": []
    },
    {
      "cell_type": "code",
      "metadata": {
        "id": "N9nQ7lelKhzZ"
      },
      "source": [
        "# Shuffle X and y\n",
        "p = list(np.random.permutation(len(X)))\n",
        "X = X[p]\n",
        "y_cat = y_cat[p]"
      ],
      "execution_count": null,
      "outputs": []
    },
    {
      "cell_type": "code",
      "metadata": {
        "id": "0EvUtfn8KjMG"
      },
      "source": [
        "# Generate X and y test, val and train\n",
        "# X and y test will be about 17% of the dataset\n",
        "first_split = int(len(y) / 6.)\n",
        "\n",
        "# X and y val will be about 37% of the dataset\n",
        "second_split = first_split + int(len(y) * 0.2)\n",
        "\n",
        "# And so, X and y train will be the last 63%\n",
        "X_test, X_val, X_train = X[:first_split], X[first_split:second_split], X[\n",
        "    second_split:]\n",
        "y_test, y_val, y_train = y_cat[:first_split], y_cat[\n",
        "    first_split:second_split], y_cat[second_split:]"
      ],
      "execution_count": null,
      "outputs": []
    },
    {
      "cell_type": "code",
      "metadata": {
        "colab": {
          "base_uri": "https://localhost:8080/"
        },
        "id": "4a_rpQ36K2CY",
        "outputId": "49ea1d4b-6864-4ebc-f7d3-d64d3a864754"
      },
      "source": [
        "print(X_test.shape, X_val.shape, X_train.shape)"
      ],
      "execution_count": null,
      "outputs": [
        {
          "output_type": "stream",
          "text": [
            "(81, 1024, 1024, 3) (97, 1024, 1024, 3) (308, 1024, 1024, 3)\n"
          ],
          "name": "stdout"
        }
      ]
    },
    {
      "cell_type": "code",
      "metadata": {
        "colab": {
          "base_uri": "https://localhost:8080/"
        },
        "id": "0bNLgJojK43P",
        "outputId": "a22f87fd-f042-4936-954a-d42d2b9e05e0"
      },
      "source": [
        "y_test"
      ],
      "execution_count": null,
      "outputs": [
        {
          "output_type": "execute_result",
          "data": {
            "text/plain": [
              "array([[0., 0., 0., ..., 0., 0., 0.],\n",
              "       [0., 0., 0., ..., 0., 0., 0.],\n",
              "       [0., 0., 0., ..., 0., 0., 0.],\n",
              "       ...,\n",
              "       [1., 0., 0., ..., 0., 0., 0.],\n",
              "       [0., 0., 0., ..., 0., 1., 0.],\n",
              "       [0., 0., 0., ..., 0., 0., 0.]], dtype=float32)"
            ]
          },
          "metadata": {},
          "execution_count": 30
        }
      ]
    },
    {
      "cell_type": "markdown",
      "metadata": {
        "id": "guvCt6AyMa_q"
      },
      "source": [
        "# Compute the baseline"
      ]
    },
    {
      "cell_type": "code",
      "metadata": {
        "id": "y85QFAN9NtIk"
      },
      "source": [
        "#((1/num_classes)*(nbre_images_du_produit/nombre_total_images))+((1/num_classes)*(nbre_images_du_produit/nombre_total_images))+..."
      ],
      "execution_count": null,
      "outputs": []
    },
    {
      "cell_type": "code",
      "metadata": {
        "colab": {
          "base_uri": "https://localhost:8080/"
        },
        "id": "tbjt63c-K9qi",
        "outputId": "8f4f174d-e832-4429-cc64-0bc89d7b0ade"
      },
      "source": [
        "baseline = 1/num_classes\n",
        "print(f\"la baseline est de {round(baseline*100,2)}%\")"
      ],
      "execution_count": null,
      "outputs": [
        {
          "output_type": "stream",
          "text": [
            "la baseline est de 6.67%\n"
          ],
          "name": "stdout"
        }
      ]
    },
    {
      "cell_type": "markdown",
      "metadata": {
        "id": "bXnSqsYEMe5z"
      },
      "source": [
        "# Save the datas to use it back if necessary"
      ]
    },
    {
      "cell_type": "code",
      "metadata": {
        "id": "2I7QYzCCLAd2"
      },
      "source": [
        "model_path = 'drive/MyDrive/vgg16_selection_images_1024'\n",
        "np.save(os.path.join(model_path, \"X_test.npy\"), X_test)\n",
        "np.save(os.path.join(model_path, \"X_val.npy\"), X_val)\n",
        "np.save(os.path.join(model_path, \"X_train.npy\"), X_train)\n",
        "np.save(os.path.join(model_path, \"y_test.npy\"), y_test)\n",
        "np.save(os.path.join(model_path, \"y_val.npy\"), y_val)\n",
        "np.save(os.path.join(model_path, \"y_train.npy\"), y_train)"
      ],
      "execution_count": null,
      "outputs": []
    },
    {
      "cell_type": "markdown",
      "metadata": {
        "id": "jC4N5D49mdTe"
      },
      "source": [
        "# Load datas"
      ]
    },
    {
      "cell_type": "code",
      "metadata": {
        "id": "GszODdoYLHtJ"
      },
      "source": [
        "model_path = 'drive/MyDrive/vgg16_selection_images_1024'\n",
        "X_test = np.load(os.path.join(model_path, \"X_test.npy\"))\n",
        "X_train = np.load(os.path.join(model_path, \"X_train.npy\"))\n",
        "X_val = np.load(os.path.join(model_path, \"X_val.npy\"))\n",
        "y_test = np.load(os.path.join(model_path, \"y_test.npy\"))\n",
        "y_val = np.load(os.path.join(model_path, \"y_val.npy\"))\n",
        "y_train = np.load(os.path.join(model_path, \"y_train.npy\"))"
      ],
      "execution_count": null,
      "outputs": []
    },
    {
      "cell_type": "code",
      "metadata": {
        "id": "3LHS_mLT67yD"
      },
      "source": [
        "first_numpy_to_test_api = X_test[0]\n",
        "np.save(os.path.join(model_path, \"first_numpy_to_test_api.npy\"), first_numpy_to_test_api)"
      ],
      "execution_count": null,
      "outputs": []
    },
    {
      "cell_type": "code",
      "metadata": {
        "colab": {
          "base_uri": "https://localhost:8080/"
        },
        "id": "snan-0xMUTfo",
        "outputId": "979af079-74ae-4366-a237-8d8ff697eb78"
      },
      "source": [
        "X_train.shape"
      ],
      "execution_count": null,
      "outputs": [
        {
          "output_type": "execute_result",
          "data": {
            "text/plain": [
              "(308, 1024, 1024, 3)"
            ]
          },
          "metadata": {},
          "execution_count": 34
        }
      ]
    },
    {
      "cell_type": "code",
      "metadata": {
        "colab": {
          "base_uri": "https://localhost:8080/"
        },
        "id": "jnyab1tcURMh",
        "outputId": "fa11fb69-0b11-4d02-91e2-904d20054e59"
      },
      "source": [
        "y_train"
      ],
      "execution_count": null,
      "outputs": [
        {
          "output_type": "execute_result",
          "data": {
            "text/plain": [
              "array([[0., 0., 0., ..., 0., 1., 0.],\n",
              "       [0., 0., 0., ..., 0., 0., 0.],\n",
              "       [0., 1., 0., ..., 0., 0., 0.],\n",
              "       ...,\n",
              "       [0., 0., 0., ..., 0., 1., 0.],\n",
              "       [0., 0., 0., ..., 0., 0., 0.],\n",
              "       [0., 1., 0., ..., 0., 0., 0.]], dtype=float32)"
            ]
          },
          "metadata": {},
          "execution_count": 35
        }
      ]
    },
    {
      "cell_type": "markdown",
      "metadata": {
        "id": "rdY2H9ZAjUbo"
      },
      "source": [
        "# Define the home_made_moel"
      ]
    },
    {
      "cell_type": "code",
      "metadata": {
        "colab": {
          "base_uri": "https://localhost:8080/"
        },
        "id": "oPsVcObFLTsW",
        "outputId": "aa1fb171-f104-4096-9887-b61b7bb11675"
      },
      "source": [
        "# input_shape_ = X_train[0].shape\n",
        "\n",
        "# model = models.Sequential()\n",
        "# model.add(layers.Conv2D(256, kernel_size=(3, 3), activation='relu', padding='same', input_shape=input_shape_))\n",
        "# model.add(layers.Conv2D(256, kernel_size=(3, 3), padding='same', activation='relu'))\n",
        "# model.add(layers.MaxPooling2D(pool_size=(3, 3)))\n",
        "# model.add(layers.Dropout(0.1))\n",
        "# model.add(layers.Conv2D(128, kernel_size=(3, 3), padding='same', activation='relu'))\n",
        "# model.add(layers.Conv2D(128, kernel_size=(3, 3), padding='same', activation='relu'))\n",
        "# model.add(layers.MaxPooling2D(pool_size=(2, 2)))\n",
        "# model.add(layers.Dropout(0.3))\n",
        "# model.add(layers.Conv2D(64, kernel_size=(3, 3), padding='same', activation='relu'))\n",
        "# model.add(layers.Conv2D(64, kernel_size=(3, 3), padding='same', activation='relu'))\n",
        "# model.add(layers.MaxPooling2D(pool_size=(2, 2)))\n",
        "# model.add(layers.Dropout(0.2))\n",
        "# model.add(layers.Conv2D(32, kernel_size=(3, 3), padding='same', activation='relu'))\n",
        "# model.add(layers.Conv2D(32, kernel_size=(3, 3), padding='same', activation='relu'))\n",
        "# model.add(layers.MaxPooling2D(pool_size=(2, 2)))\n",
        "# # model.add(layers.Dropout(0.1))\n",
        "# model.add(layers.Conv2D(16, kernel_size=(3, 3), padding='same', activation='relu'))\n",
        "# model.add(layers.Conv2D(16, kernel_size=(3, 3), padding='same', activation='relu'))\n",
        "# model.add(layers.MaxPooling2D(pool_size=(2, 2)))\n",
        "# # model.add(layers.Dropout(0.2))\n",
        "# model.add(layers.Flatten())\n",
        "# model.add(layers.Dense(128, activation='relu'))\n",
        "# model.add(layers.Dropout(0.25))\n",
        "# model.add(layers.Dense(num_classes, activation='softmax'))\n",
        "\n",
        "# # learning_rate=1e-4\n",
        "# opt = optimizers.Adam(learning_rate=0.1)\n",
        "# model.compile(loss='categorical_crossentropy',\n",
        "#               optimizer=opt,\n",
        "#               metrics=[metrics.Precision()])\n",
        "\n",
        "# model.summary()"
      ],
      "execution_count": null,
      "outputs": [
        {
          "name": "stdout",
          "output_type": "stream",
          "text": [
            "Model: \"sequential_2\"\n",
            "_________________________________________________________________\n",
            "Layer (type)                 Output Shape              Param #   \n",
            "=================================================================\n",
            "conv2d_20 (Conv2D)           (None, 256, 256, 256)     7168      \n",
            "_________________________________________________________________\n",
            "conv2d_21 (Conv2D)           (None, 256, 256, 256)     590080    \n",
            "_________________________________________________________________\n",
            "max_pooling2d_10 (MaxPooling (None, 85, 85, 256)       0         \n",
            "_________________________________________________________________\n",
            "dropout_9 (Dropout)          (None, 85, 85, 256)       0         \n",
            "_________________________________________________________________\n",
            "conv2d_22 (Conv2D)           (None, 85, 85, 128)       295040    \n",
            "_________________________________________________________________\n",
            "conv2d_23 (Conv2D)           (None, 85, 85, 128)       147584    \n",
            "_________________________________________________________________\n",
            "max_pooling2d_11 (MaxPooling (None, 42, 42, 128)       0         \n",
            "_________________________________________________________________\n",
            "dropout_10 (Dropout)         (None, 42, 42, 128)       0         \n",
            "_________________________________________________________________\n",
            "conv2d_24 (Conv2D)           (None, 42, 42, 64)        73792     \n",
            "_________________________________________________________________\n",
            "conv2d_25 (Conv2D)           (None, 42, 42, 64)        36928     \n",
            "_________________________________________________________________\n",
            "max_pooling2d_12 (MaxPooling (None, 21, 21, 64)        0         \n",
            "_________________________________________________________________\n",
            "dropout_11 (Dropout)         (None, 21, 21, 64)        0         \n",
            "_________________________________________________________________\n",
            "conv2d_26 (Conv2D)           (None, 21, 21, 32)        18464     \n",
            "_________________________________________________________________\n",
            "conv2d_27 (Conv2D)           (None, 21, 21, 32)        9248      \n",
            "_________________________________________________________________\n",
            "max_pooling2d_13 (MaxPooling (None, 10, 10, 32)        0         \n",
            "_________________________________________________________________\n",
            "conv2d_28 (Conv2D)           (None, 10, 10, 16)        4624      \n",
            "_________________________________________________________________\n",
            "conv2d_29 (Conv2D)           (None, 10, 10, 16)        2320      \n",
            "_________________________________________________________________\n",
            "max_pooling2d_14 (MaxPooling (None, 5, 5, 16)          0         \n",
            "_________________________________________________________________\n",
            "flatten_2 (Flatten)          (None, 400)               0         \n",
            "_________________________________________________________________\n",
            "dense_4 (Dense)              (None, 128)               51328     \n",
            "_________________________________________________________________\n",
            "dropout_12 (Dropout)         (None, 128)               0         \n",
            "_________________________________________________________________\n",
            "dense_5 (Dense)              (None, 15)                1935      \n",
            "=================================================================\n",
            "Total params: 1,238,511\n",
            "Trainable params: 1,238,511\n",
            "Non-trainable params: 0\n",
            "_________________________________________________________________\n"
          ]
        }
      ]
    },
    {
      "cell_type": "code",
      "metadata": {
        "id": "FwLQ0SUtlNe4"
      },
      "source": [
        "# from tensorflow.keras.callbacks import LearningRateScheduler\n",
        "# This function keeps the initial learning rate for the first ten epochs\n",
        "# and decreases it exponentially after that.\n",
        "# def scheduler(epoch, lr):\n",
        "#   if epoch < 10:\n",
        "#     return lr\n",
        "#   else:\n",
        "#     return lr * tf.math.exp(-0.1)\n",
        "\n",
        "# callback = LearningRateScheduler(scheduler)"
      ],
      "execution_count": null,
      "outputs": []
    },
    {
      "cell_type": "code",
      "metadata": {
        "id": "kDLaPoO9Tddp"
      },
      "source": [
        "# es = EarlyStopping(patience=10, verbose=1, restore_best_weights=True)\n",
        "\n",
        "# history = model.fit(X_train, y_train, \n",
        "#                     validation_data=(X_val, y_val), \n",
        "#                     epochs=50, \n",
        "#                     batch_size=8, \n",
        "#                     callbacks=[es])"
      ],
      "execution_count": null,
      "outputs": []
    },
    {
      "cell_type": "markdown",
      "metadata": {
        "id": "6DwP1itNjbfu"
      },
      "source": [
        "# Define the ResNet50_model"
      ]
    },
    {
      "cell_type": "code",
      "metadata": {
        "colab": {
          "base_uri": "https://localhost:8080/"
        },
        "id": "Dx49IiTYnpn1",
        "outputId": "e55bb177-b86b-4f31-c483-704bb550193c"
      },
      "source": [
        "from tensorflow.keras.applications.resnet50 import ResNet50\n",
        "\n",
        "base_model = ResNet50(weights='imagenet', include_top=False, input_shape = X_train[0].shape)\n",
        "base_model.trainable = False\n",
        "flatten_layer = layers.Flatten()\n",
        "first_dense_layer = layers.Dense(128, activation='relu')\n",
        "first_dropout_layer = layers.Dropout(0.5)\n",
        "second_dense_layer = layers.Dense(64, activation='relu')\n",
        "second_dropout_layer = layers.Dropout(0.3)\n",
        "prediction_layer = layers.Dense(num_classes, activation='softmax')\n",
        "\n",
        "model = models.Sequential([\n",
        "    base_model,\n",
        "    flatten_layer,\n",
        "    first_dense_layer,\n",
        "    first_dropout_layer,\n",
        "    second_dense_layer,\n",
        "    second_dropout_layer,\n",
        "    prediction_layer\n",
        "])\n",
        "\n",
        "model.summary()"
      ],
      "execution_count": null,
      "outputs": [
        {
          "output_type": "stream",
          "text": [
            "Model: \"sequential_9\"\n",
            "_________________________________________________________________\n",
            "Layer (type)                 Output Shape              Param #   \n",
            "=================================================================\n",
            "resnet50 (Functional)        (None, 8, 8, 2048)        23587712  \n",
            "_________________________________________________________________\n",
            "flatten_10 (Flatten)         (None, 131072)            0         \n",
            "_________________________________________________________________\n",
            "dense_26 (Dense)             (None, 128)               16777344  \n",
            "_________________________________________________________________\n",
            "dropout_27 (Dropout)         (None, 128)               0         \n",
            "_________________________________________________________________\n",
            "dense_27 (Dense)             (None, 64)                8256      \n",
            "_________________________________________________________________\n",
            "dropout_28 (Dropout)         (None, 64)                0         \n",
            "_________________________________________________________________\n",
            "dense_28 (Dense)             (None, 15)                975       \n",
            "=================================================================\n",
            "Total params: 40,374,287\n",
            "Trainable params: 16,786,575\n",
            "Non-trainable params: 23,587,712\n",
            "_________________________________________________________________\n"
          ],
          "name": "stdout"
        }
      ]
    },
    {
      "cell_type": "code",
      "metadata": {
        "id": "r2kUpoAbjqq9",
        "colab": {
          "base_uri": "https://localhost:8080/"
        },
        "outputId": "6e3ee99f-3339-4e75-9792-eea2f51a9e7b"
      },
      "source": [
        "opt = optimizers.Adam()\n",
        "model.compile(loss='categorical_crossentropy',\n",
        "              optimizer=opt,\n",
        "              metrics=[metrics.Precision()])\n",
        "\n",
        "es = EarlyStopping(patience=6, verbose=1, restore_best_weights=True)\n",
        "\n",
        "history = model.fit(X_train, y_train, \n",
        "                    validation_data=(X_val, y_val), \n",
        "                    epochs=50, \n",
        "                    batch_size=16, \n",
        "                    callbacks=[es])"
      ],
      "execution_count": null,
      "outputs": [
        {
          "output_type": "stream",
          "text": [
            "Epoch 1/50\n",
            "20/20 [==============================] - 124s 4s/step - loss: 24.8003 - precision_8: 0.1119 - val_loss: 4.9359 - val_precision_8: 0.3194\n",
            "Epoch 2/50\n",
            "20/20 [==============================] - 82s 4s/step - loss: 10.8184 - precision_8: 0.2732 - val_loss: 2.7024 - val_precision_8: 0.8333\n",
            "Epoch 3/50\n",
            "20/20 [==============================] - 83s 4s/step - loss: 5.8424 - precision_8: 0.3130 - val_loss: 2.9067 - val_precision_8: 0.6000\n",
            "Epoch 4/50\n",
            "20/20 [==============================] - 83s 4s/step - loss: 4.5611 - precision_8: 0.4091 - val_loss: 2.7928 - val_precision_8: 0.6667\n",
            "Epoch 5/50\n",
            "20/20 [==============================] - 82s 4s/step - loss: 4.5109 - precision_8: 0.4032 - val_loss: 2.5173 - val_precision_8: 0.6667\n",
            "Epoch 6/50\n",
            "20/20 [==============================] - 82s 4s/step - loss: 3.5210 - precision_8: 0.5538 - val_loss: 2.5619 - val_precision_8: 0.8333\n",
            "Epoch 7/50\n",
            "20/20 [==============================] - 82s 4s/step - loss: 3.1262 - precision_8: 0.6304 - val_loss: 2.6440 - val_precision_8: 0.8000\n",
            "Epoch 8/50\n",
            "20/20 [==============================] - 82s 4s/step - loss: 4.1983 - precision_8: 0.6400 - val_loss: 2.7316 - val_precision_8: 0.8000\n",
            "Epoch 9/50\n",
            "20/20 [==============================] - 82s 4s/step - loss: 2.9211 - precision_8: 0.6667 - val_loss: 2.7253 - val_precision_8: 0.8000\n",
            "Epoch 10/50\n",
            "20/20 [==============================] - 82s 4s/step - loss: 3.3957 - precision_8: 0.6750 - val_loss: 2.5661 - val_precision_8: 1.0000\n",
            "Epoch 11/50\n",
            "20/20 [==============================] - 82s 4s/step - loss: 2.9964 - precision_8: 0.6757 - val_loss: 2.5465 - val_precision_8: 1.0000\n",
            "Restoring model weights from the end of the best epoch.\n",
            "Epoch 00011: early stopping\n"
          ],
          "name": "stdout"
        }
      ]
    },
    {
      "cell_type": "markdown",
      "metadata": {
        "id": "jXavG8UVMozL"
      },
      "source": [
        "# Plot the accuracy for the test and validation set using the usual function below"
      ]
    },
    {
      "cell_type": "code",
      "metadata": {
        "id": "3Ked-Ac6LWGp"
      },
      "source": [
        "def plot_history(history, title='', axs=None, exp_name=\"\"):\n",
        "    if axs is not None:\n",
        "        ax1, ax2 = axs\n",
        "    else:\n",
        "        f, (ax1, ax2) = plt.subplots(1, 2, figsize=(12, 4))\n",
        "    \n",
        "    if len(exp_name) > 0 and exp_name[0] != '_':\n",
        "        exp_name = '_' + exp_name\n",
        "    ax1.plot(history.history['loss'], label='train' + exp_name)\n",
        "    ax1.plot(history.history['val_loss'], label='val' + exp_name)\n",
        "    #ax1.set_ylim(0., 2.2)\n",
        "    ax1.set_title('Loss')\n",
        "    ax1.legend()\n",
        "\n",
        "    ax2.plot(history.history[list(history.history)[1]], label='train precision'  + exp_name)\n",
        "    ax2.plot(history.history[list(history.history)[3]], label='val precision'  + exp_name)\n",
        "    #ax2.set_ylim(0.25, 1.)\n",
        "    ax2.set_title('Precision')\n",
        "    ax2.legend()\n",
        "    return (ax1, ax2)"
      ],
      "execution_count": null,
      "outputs": []
    },
    {
      "cell_type": "code",
      "metadata": {
        "id": "asulXHgeLXhG",
        "colab": {
          "base_uri": "https://localhost:8080/",
          "height": 314
        },
        "outputId": "22ed4171-1f76-4ddb-ceb7-3d7cd0f628a3"
      },
      "source": [
        "plot_history(history)"
      ],
      "execution_count": null,
      "outputs": [
        {
          "output_type": "execute_result",
          "data": {
            "text/plain": [
              "(<matplotlib.axes._subplots.AxesSubplot at 0x7f3011157b90>,\n",
              " <matplotlib.axes._subplots.AxesSubplot at 0x7f300c5ab350>)"
            ]
          },
          "metadata": {},
          "execution_count": 56
        },
        {
          "output_type": "display_data",
          "data": {
            "image/png": "[encoded data removed]",
            "text/plain": [
              "<Figure size 864x288 with 2 Axes>"
            ]
          },
          "metadata": {
            "needs_background": "light"
          }
        }
      ]
    },
    {
      "cell_type": "markdown",
      "metadata": {
        "id": "ZkAEFDZsMw5a"
      },
      "source": [
        "# Visualize the results"
      ]
    },
    {
      "cell_type": "code",
      "metadata": {
        "id": "YgPqx7evLYvz",
        "colab": {
          "base_uri": "https://localhost:8080/"
        },
        "outputId": "893a2f04-7e1e-48e8-f77c-8077804def8d"
      },
      "source": [
        "res_vgg = model.evaluate(X_test, y_test)\n",
        "\n",
        "test_precision_vgg = res_vgg[-1]\n",
        "\n",
        "print(f\"test_precision_vgg = {round(test_precision_vgg,2)*100} %\")\n",
        "\n",
        "print(f'Baseline: {1./num_classes*100:.1f}%')"
      ],
      "execution_count": null,
      "outputs": [
        {
          "output_type": "stream",
          "text": [
            "3/3 [==============================] - 16s 5s/step - loss: 2.4133 - precision_8: 0.8889\n",
            "test_precision_vgg = 89.0 %\n",
            "Baseline: 6.7%\n"
          ],
          "name": "stdout"
        }
      ]
    },
    {
      "cell_type": "code",
      "metadata": {
        "id": "1zsssRBfLbXQ"
      },
      "source": [
        "predicted = model.predict(X_test)\n",
        "# proba = model.predict_proba(X_test)\n",
        "y_predict_back = np.argmax(predicted, axis=-1)\n",
        "y_test_back = np.argmax(y_test, axis=-1)"
      ],
      "execution_count": null,
      "outputs": []
    },
    {
      "cell_type": "code",
      "metadata": {
        "id": "Uf2EAF5OLc_A",
        "colab": {
          "base_uri": "https://localhost:8080/",
          "height": 542
        },
        "outputId": "0a89667b-b2a6-4c7f-b750-e5a8ae1fa0b1"
      },
      "source": [
        "df_results = pd.DataFrame()\n",
        "\n",
        "results = []\n",
        "for code in y_predict_back:\n",
        "  for products, label in products_encoded.items():\n",
        "    if code == label:\n",
        "      results.append(products)\n",
        "\n",
        "products_to_predict = []\n",
        "for code in y_test_back:\n",
        "  for products, label in products_encoded.items():\n",
        "    if code == label:\n",
        "      products_to_predict.append(products)\n",
        "\n",
        "df_results[\"products_to_predict\"] = products_to_predict\n",
        "df_results[\"results\"] = results\n",
        "\n",
        "matching = []\n",
        "for index_ in range(len(df_results[\"results\"])):\n",
        "  if df_results[\"products_to_predict\"].iloc[index_] == df_results[\"results\"].iloc[index_]:\n",
        "    matching.append(1)\n",
        "  else:\n",
        "    matching.append(0)\n",
        "\n",
        "df_results[\"matching\"] = matching\n",
        "df_results[\"total_number_of_tests\"] = 1\n",
        "\n",
        "df_predictions_results = df_results.groupby('products_to_predict').sum()\n",
        "\n",
        "matching_percentage = []\n",
        "for index_ in range(len(df_predictions_results[\"matching\"])):\n",
        "  matching_percentage.append(round(df_predictions_results[\"matching\"].iloc[index_] / df_predictions_results[\"total_number_of_tests\"].iloc[index_]*100))\n",
        "\n",
        "df_predictions_results[\"matching_percentage\"] = matching_percentage\n",
        "\n",
        "df_predictions_results.sort_values(by='matching_percentage', ascending=False)"
      ],
      "execution_count": null,
      "outputs": [
        {
          "output_type": "execute_result",
          "data": {
            "text/html": [
              "<div>\n",
              "<style scoped>\n",
              "    .dataframe tbody tr th:only-of-type {\n",
              "        vertical-align: middle;\n",
              "    }\n",
              "\n",
              "    .dataframe tbody tr th {\n",
              "        vertical-align: top;\n",
              "    }\n",
              "\n",
              "    .dataframe thead th {\n",
              "        text-align: right;\n",
              "    }\n",
              "</style>\n",
              "<table border=\"1\" class=\"dataframe\">\n",
              "  <thead>\n",
              "    <tr style=\"text-align: right;\">\n",
              "      <th></th>\n",
              "      <th>matching</th>\n",
              "      <th>total_number_of_tests</th>\n",
              "      <th>matching_percentage</th>\n",
              "    </tr>\n",
              "    <tr>\n",
              "      <th>products_to_predict</th>\n",
              "      <th></th>\n",
              "      <th></th>\n",
              "      <th></th>\n",
              "    </tr>\n",
              "  </thead>\n",
              "  <tbody>\n",
              "    <tr>\n",
              "      <th>concombre</th>\n",
              "      <td>6</td>\n",
              "      <td>6</td>\n",
              "      <td>100</td>\n",
              "    </tr>\n",
              "    <tr>\n",
              "      <th>pomme_de_terre</th>\n",
              "      <td>4</td>\n",
              "      <td>4</td>\n",
              "      <td>100</td>\n",
              "    </tr>\n",
              "    <tr>\n",
              "      <th>banane</th>\n",
              "      <td>3</td>\n",
              "      <td>6</td>\n",
              "      <td>50</td>\n",
              "    </tr>\n",
              "    <tr>\n",
              "      <th>ananas</th>\n",
              "      <td>0</td>\n",
              "      <td>6</td>\n",
              "      <td>0</td>\n",
              "    </tr>\n",
              "    <tr>\n",
              "      <th>aubergine</th>\n",
              "      <td>0</td>\n",
              "      <td>9</td>\n",
              "      <td>0</td>\n",
              "    </tr>\n",
              "    <tr>\n",
              "      <th>brocoli</th>\n",
              "      <td>0</td>\n",
              "      <td>5</td>\n",
              "      <td>0</td>\n",
              "    </tr>\n",
              "    <tr>\n",
              "      <th>carotte</th>\n",
              "      <td>0</td>\n",
              "      <td>2</td>\n",
              "      <td>0</td>\n",
              "    </tr>\n",
              "    <tr>\n",
              "      <th>citron</th>\n",
              "      <td>0</td>\n",
              "      <td>8</td>\n",
              "      <td>0</td>\n",
              "    </tr>\n",
              "    <tr>\n",
              "      <th>gingembre</th>\n",
              "      <td>0</td>\n",
              "      <td>7</td>\n",
              "      <td>0</td>\n",
              "    </tr>\n",
              "    <tr>\n",
              "      <th>melon</th>\n",
              "      <td>0</td>\n",
              "      <td>4</td>\n",
              "      <td>0</td>\n",
              "    </tr>\n",
              "    <tr>\n",
              "      <th>pasteque</th>\n",
              "      <td>0</td>\n",
              "      <td>6</td>\n",
              "      <td>0</td>\n",
              "    </tr>\n",
              "    <tr>\n",
              "      <th>poivron</th>\n",
              "      <td>0</td>\n",
              "      <td>5</td>\n",
              "      <td>0</td>\n",
              "    </tr>\n",
              "    <tr>\n",
              "      <th>raisin</th>\n",
              "      <td>0</td>\n",
              "      <td>7</td>\n",
              "      <td>0</td>\n",
              "    </tr>\n",
              "    <tr>\n",
              "      <th>salade</th>\n",
              "      <td>0</td>\n",
              "      <td>4</td>\n",
              "      <td>0</td>\n",
              "    </tr>\n",
              "    <tr>\n",
              "      <th>tomate</th>\n",
              "      <td>0</td>\n",
              "      <td>2</td>\n",
              "      <td>0</td>\n",
              "    </tr>\n",
              "  </tbody>\n",
              "</table>\n",
              "</div>"
            ],
            "text/plain": [
              "                     matching  total_number_of_tests  matching_percentage\n",
              "products_to_predict                                                      \n",
              "concombre                   6                      6                  100\n",
              "pomme_de_terre              4                      4                  100\n",
              "banane                      3                      6                   50\n",
              "ananas                      0                      6                    0\n",
              "aubergine                   0                      9                    0\n",
              "brocoli                     0                      5                    0\n",
              "carotte                     0                      2                    0\n",
              "citron                      0                      8                    0\n",
              "gingembre                   0                      7                    0\n",
              "melon                       0                      4                    0\n",
              "pasteque                    0                      6                    0\n",
              "poivron                     0                      5                    0\n",
              "raisin                      0                      7                    0\n",
              "salade                      0                      4                    0\n",
              "tomate                      0                      2                    0"
            ]
          },
          "metadata": {},
          "execution_count": 59
        }
      ]
    },
    {
      "cell_type": "markdown",
      "metadata": {
        "id": "D3hs4SfArGt0"
      },
      "source": [
        "# Save the model"
      ]
    },
    {
      "cell_type": "code",
      "metadata": {
        "colab": {
          "base_uri": "https://localhost:8080/"
        },
        "id": "0NpKtf0ArLAI",
        "outputId": "73bdc27e-ad97-4217-98ff-70389facc5c4"
      },
      "source": [
        "from tensorflow import keras\n",
        "PATH = 'drive/MyDrive/ResNet50_model'\n",
        "model.save(PATH, save_format='h5')\n",
        "# loaded_model = keras.models.load_model(PATH)"
      ],
      "execution_count": null,
      "outputs": [
        {
          "output_type": "stream",
          "text": [
            "/usr/local/lib/python3.7/dist-packages/keras/utils/generic_utils.py:497: CustomMaskWarning: Custom mask layers require a config and must override get_config. When loading, the custom mask layer must be passed to the custom_objects argument.\n",
            "  category=CustomMaskWarning)\n"
          ],
          "name": "stderr"
        }
      ]
    },
    {
      "cell_type": "code",
      "metadata": {
        "id": "SB_wjz2uH6fy"
      },
      "source": [
        ""
      ],
      "execution_count": null,
      "outputs": []
    }
  ]
}